{
  "nbformat": 4,
  "nbformat_minor": 0,
  "metadata": {
    "colab": {
      "provenance": [],
      "authorship_tag": "ABX9TyOrJRUKo63aRKI8bttTijQH",
      "include_colab_link": true
    },
    "kernelspec": {
      "name": "python3",
      "display_name": "Python 3"
    },
    "language_info": {
      "name": "python"
    }
  },
  "cells": [
    {
      "cell_type": "markdown",
      "metadata": {
        "id": "view-in-github",
        "colab_type": "text"
      },
      "source": [
        "<a href=\"https://colab.research.google.com/github/DivakarSingh1245/DivakarSingh1245/blob/main/Numpy_totorial.ipynb\" target=\"_parent\"><img src=\"https://colab.research.google.com/assets/colab-badge.svg\" alt=\"Open In Colab\"/></a>"
      ]
    },
    {
      "cell_type": "code",
      "execution_count": null,
      "metadata": {
        "id": "9FRczZR3jrVY"
      },
      "outputs": [],
      "source": [
        "import numpy as np"
      ]
    },
    {
      "cell_type": "code",
      "source": [
        "arr= np.array([1,2,3,4])\n",
        "print(arr)\n",
        "print(type(arr))"
      ],
      "metadata": {
        "colab": {
          "base_uri": "https://localhost:8080/"
        },
        "id": "xV8Wd8aAjwfw",
        "outputId": "8eb26eaf-68ab-4ab9-84c7-8b9a30ef3dc7"
      },
      "execution_count": null,
      "outputs": [
        {
          "output_type": "stream",
          "name": "stdout",
          "text": [
            "[1 2 3 4]\n",
            "<class 'numpy.ndarray'>\n"
          ]
        }
      ]
    },
    {
      "cell_type": "code",
      "source": [
        "print('Hii I am Divakar')"
      ],
      "metadata": {
        "colab": {
          "base_uri": "https://localhost:8080/"
        },
        "id": "AXnkyvHRkMqj",
        "outputId": "31dd4c7b-075b-4c5d-fa80-d518369ee56d"
      },
      "execution_count": null,
      "outputs": [
        {
          "output_type": "stream",
          "name": "stdout",
          "text": [
            "Hii I am Divakar\n"
          ]
        }
      ]
    },
    {
      "cell_type": "code",
      "source": [
        "arr1 = np.array([[1,2,4,5],[3,4,6,7]])\n",
        "print(arr1)\n",
        "print(type(arr1))"
      ],
      "metadata": {
        "colab": {
          "base_uri": "https://localhost:8080/"
        },
        "id": "mQ26gCOOkgGn",
        "outputId": "e5beb4f7-ba2d-4a68-aef2-ec75224868dd"
      },
      "execution_count": null,
      "outputs": [
        {
          "output_type": "stream",
          "name": "stdout",
          "text": [
            "[[1 2 4 5]\n",
            " [3 4 6 7]]\n",
            "<class 'numpy.ndarray'>\n"
          ]
        }
      ]
    },
    {
      "cell_type": "code",
      "source": [
        "arr3 = np.array([[[12,13,14],[12,62,34],[45,46,37]]])\n",
        "print(arr3)\n",
        "print(type(arr3))"
      ],
      "metadata": {
        "colab": {
          "base_uri": "https://localhost:8080/"
        },
        "id": "GAgn5mBnkStO",
        "outputId": "72052d1b-35bc-4d81-fa5b-aa5d5d63af59"
      },
      "execution_count": null,
      "outputs": [
        {
          "output_type": "stream",
          "name": "stdout",
          "text": [
            "[[[12 13 14]\n",
            "  [12 62 34]\n",
            "  [45 46 37]]]\n",
            "<class 'numpy.ndarray'>\n"
          ]
        }
      ]
    },
    {
      "cell_type": "markdown",
      "source": [
        "### Shape and Size of array"
      ],
      "metadata": {
        "id": "1pt3IDCimvFF"
      }
    },
    {
      "cell_type": "code",
      "source": [
        "print(arr1.shape)\n",
        "print(arr1.size)\n",
        "print(arr1.ndim)"
      ],
      "metadata": {
        "colab": {
          "base_uri": "https://localhost:8080/"
        },
        "id": "heb9f6yLl32F",
        "outputId": "1b1e971f-4f97-4059-fe52-286003d0525b"
      },
      "execution_count": null,
      "outputs": [
        {
          "output_type": "stream",
          "name": "stdout",
          "text": [
            "(2, 4)\n",
            "8\n",
            "2\n"
          ]
        }
      ]
    },
    {
      "cell_type": "markdown",
      "source": [
        "#creating special array\n"
      ],
      "metadata": {
        "id": "TR2mBMDfoHKB"
      }
    },
    {
      "cell_type": "code",
      "source": [
        "Zeros = np.zeros((3,3))\n",
        "ones = np.ones((2,2))\n",
        "identity = np.eye(3)\n",
        "random_array = np.random.rand(3,3)\n",
        "print(Zeros)\n",
        "print(ones)\n",
        "print(random_array)\n",
        "print(identity)"
      ],
      "metadata": {
        "colab": {
          "base_uri": "https://localhost:8080/"
        },
        "id": "SsVT_gKLnFR8",
        "outputId": "6d05db3c-1dca-4d46-dc06-c3659662cfdd"
      },
      "execution_count": null,
      "outputs": [
        {
          "output_type": "stream",
          "name": "stdout",
          "text": [
            "[[0. 0. 0.]\n",
            " [0. 0. 0.]\n",
            " [0. 0. 0.]]\n",
            "[[1. 1.]\n",
            " [1. 1.]]\n",
            "[[0.25052474 0.26165313 0.26906977]\n",
            " [0.51474137 0.34197884 0.86910064]\n",
            " [0.20100938 0.56943521 0.56417123]]\n",
            "[[1. 0. 0.]\n",
            " [0. 1. 0.]\n",
            " [0. 0. 1.]]\n"
          ]
        }
      ]
    },
    {
      "cell_type": "markdown",
      "source": [
        "mathmatical opration of array\n"
      ],
      "metadata": {
        "id": "KAdov1e-qTq-"
      }
    },
    {
      "cell_type": "code",
      "source": [
        "arr = np.array([10,20,30,40])\n",
        "print(arr+5)\n",
        "print(arr*2)\n",
        "\n",
        "print(np.sqrt(arr))\n",
        "print(np.mean(arr))\n",
        "print(np.std(arr))"
      ],
      "metadata": {
        "colab": {
          "base_uri": "https://localhost:8080/"
        },
        "id": "omckHarQn97D",
        "outputId": "8434910b-ca70-454c-cd3e-3618d29ba260"
      },
      "execution_count": null,
      "outputs": [
        {
          "output_type": "stream",
          "name": "stdout",
          "text": [
            "[15 25 35 45]\n",
            "[20 40 60 80]\n",
            "[3.16227766 4.47213595 5.47722558 6.32455532]\n",
            "25.0\n",
            "11.180339887498949\n"
          ]
        }
      ]
    },
    {
      "cell_type": "markdown",
      "source": [
        "indexing and slicing in array"
      ],
      "metadata": {
        "id": "fRpPI1EQssTD"
      }
    },
    {
      "cell_type": "code",
      "source": [
        "# accessing a single element\n",
        "arr= np.array([10,20,30,40,50])\n",
        "\n",
        "print(arr[2])\n",
        "print(arr[-1])"
      ],
      "metadata": {
        "colab": {
          "base_uri": "https://localhost:8080/"
        },
        "id": "9uBnjvlurFDS",
        "outputId": "6bcb1ebd-abca-4529-a119-1829a1ae053c"
      },
      "execution_count": null,
      "outputs": [
        {
          "output_type": "stream",
          "name": "stdout",
          "text": [
            "30\n",
            "50\n"
          ]
        }
      ]
    },
    {
      "cell_type": "code",
      "source": [
        "# sllicing of array(extrating of a part of element )\n",
        "\n",
        "print(arr[2:4])\n",
        "print(arr[:2])\n",
        "print(arr[::3])"
      ],
      "metadata": {
        "colab": {
          "base_uri": "https://localhost:8080/"
        },
        "id": "2oCaxCRItbwY",
        "outputId": "048c9c60-c23c-4e5b-c988-7704169769da"
      },
      "execution_count": null,
      "outputs": [
        {
          "output_type": "stream",
          "name": "stdout",
          "text": [
            "[30 40]\n",
            "[10 20]\n",
            "[10 40]\n"
          ]
        }
      ]
    },
    {
      "cell_type": "markdown",
      "source": [
        "Slicing in 2d array"
      ],
      "metadata": {
        "id": "BwE1CUTZvqwI"
      }
    },
    {
      "cell_type": "code",
      "source": [
        "arr = np.array([[12,13,14],[16,17,18],[23,24,25]])\n",
        "print(arr)\n",
        "print(arr[0,2])\n",
        "print(arr[1:,2])"
      ],
      "metadata": {
        "colab": {
          "base_uri": "https://localhost:8080/"
        },
        "id": "cXf7Hm9ZvNLD",
        "outputId": "59fc85c0-5b63-4728-ab90-959f9ea9111f"
      },
      "execution_count": null,
      "outputs": [
        {
          "output_type": "stream",
          "name": "stdout",
          "text": [
            "[[12 13 14]\n",
            " [16 17 18]\n",
            " [23 24 25]]\n",
            "14\n",
            "[18 25]\n"
          ]
        }
      ]
    },
    {
      "cell_type": "code",
      "source": [
        "# filtering array with condition\n",
        "arr= np.array([10,20,30,40,50])\n",
        "print(arr>20)\n",
        "print(arr %20 == 0)"
      ],
      "metadata": {
        "colab": {
          "base_uri": "https://localhost:8080/"
        },
        "id": "uy8l_GVSwCC9",
        "outputId": "1559a282-ff17-4d69-8bff-b93bb39a0013"
      },
      "execution_count": null,
      "outputs": [
        {
          "output_type": "stream",
          "name": "stdout",
          "text": [
            "[False False  True  True  True]\n",
            "[False  True False  True False]\n"
          ]
        }
      ]
    },
    {
      "cell_type": "code",
      "source": [
        "# matrix operation in numpy\n",
        "\n",
        "# Adding two matrices\n",
        "\n",
        "arr1 = np.array([[12,13,14],[23,34,25]])\n",
        "arr2 = np.array([[34,35,36,],[45,46,47]])\n",
        "\n",
        "print(arr1+arr2)\n",
        "\n",
        "print(arr1*arr2)"
      ],
      "metadata": {
        "colab": {
          "base_uri": "https://localhost:8080/"
        },
        "id": "6pGmydUoyCuJ",
        "outputId": "7dd2d7b6-41b9-4f61-90e7-aa81985fa3ca"
      },
      "execution_count": null,
      "outputs": [
        {
          "output_type": "stream",
          "name": "stdout",
          "text": [
            "[[46 48 50]\n",
            " [68 80 72]]\n",
            "[[ 408  455  504]\n",
            " [1035 1564 1175]]\n"
          ]
        }
      ]
    },
    {
      "cell_type": "code",
      "source": [
        "import pandas as pd\n",
        "\n",
        "data = np.array([[1,'A'],[2,'B'],[3,'c']])\n",
        "df= pd.DataFrame(data,columns = ['ID','Category'])\n",
        "print(df)"
      ],
      "metadata": {
        "colab": {
          "base_uri": "https://localhost:8080/"
        },
        "id": "5CkXBm4J02N-",
        "outputId": "fa1290cf-ee6e-4b0f-a2c9-3ea7a44b6179"
      },
      "execution_count": null,
      "outputs": [
        {
          "output_type": "stream",
          "name": "stdout",
          "text": [
            "  ID Category\n",
            "0  1        A\n",
            "1  2        B\n",
            "2  3        c\n"
          ]
        }
      ]
    },
    {
      "cell_type": "markdown",
      "source": [
        "# Numpy project"
      ],
      "metadata": {
        "id": "WUSh7ERNqhzH"
      }
    },
    {
      "cell_type": "code",
      "source": [
        "import numpy as np  # Importing NumPy library\n",
        "\n",
        "# Creating a dataset using NumPy array\n",
        "data = np.array([\n",
        "    [101, 15, 5, 25],   # Player 1 (Player ID: 101)\n",
        "    [102, 10, 7, 30],   # Player 2 (Player ID: 102)\n",
        "    [103, 25, 10, 28],  # Player 3 (Player ID: 103)\n",
        "    [104, 5, 2, 20],    # Player 4 (Player ID: 104)\n",
        "    [105, 18, 9, 27]    # Player 5 (Player ID: 105)\n",
        "])\n",
        "\n",
        "print(\"Player Data:\\n\", data)\n"
      ],
      "metadata": {
        "id": "uwY46QkH2r89",
        "colab": {
          "base_uri": "https://localhost:8080/"
        },
        "outputId": "f7675331-326b-4779-ebb9-b3290489ea25"
      },
      "execution_count": null,
      "outputs": [
        {
          "output_type": "stream",
          "name": "stdout",
          "text": [
            "Player Data:\n",
            " [[101  15   5  25]\n",
            " [102  10   7  30]\n",
            " [103  25  10  28]\n",
            " [104   5   2  20]\n",
            " [105  18   9  27]]\n"
          ]
        }
      ]
    },
    {
      "cell_type": "code",
      "source": [
        "goals= data[:,1]\n",
        "print(\"Goals:\",goals)\n",
        "assists = data[:,2]\n",
        "matches= data[:,3]\n",
        "print(\"assists:\",assists)\n",
        "print('matches:',matches)\n",
        "\n"
      ],
      "metadata": {
        "colab": {
          "base_uri": "https://localhost:8080/"
        },
        "id": "gDM-EI4GqrgJ",
        "outputId": "6019154c-4544-452e-d408-19d81d92c55d"
      },
      "execution_count": null,
      "outputs": [
        {
          "output_type": "stream",
          "name": "stdout",
          "text": [
            "Goals: [15 10 25  5 18]\n",
            "assists: [ 5  7 10  2  9]\n",
            "matches: [25 30 28 20 27]\n"
          ]
        }
      ]
    },
    {
      "cell_type": "code",
      "source": [
        "#calculate average goals and assists\n",
        "\n",
        "avg_goals = np.mean(goals)\n",
        "print(avg_goals)\n",
        "\n",
        "avg_asssists = np.mean(assists)\n",
        "print(avg_asssists)"
      ],
      "metadata": {
        "colab": {
          "base_uri": "https://localhost:8080/"
        },
        "id": "ARZKy7kEq_qH",
        "outputId": "6e40a3ab-ca0b-464c-a4da-9f4dd93ce586"
      },
      "execution_count": null,
      "outputs": [
        {
          "output_type": "stream",
          "name": "stdout",
          "text": [
            "14.6\n",
            "6.6\n"
          ]
        }
      ]
    },
    {
      "cell_type": "code",
      "source": [
        "# finding top goals scorers\n",
        "\n",
        "top_goals = data[data[:,1] >15]\n",
        "print(top_goals)\n",
        "\n"
      ],
      "metadata": {
        "colab": {
          "base_uri": "https://localhost:8080/"
        },
        "id": "39xkxbGns7Nk",
        "outputId": "0cdd2c7a-448f-4daf-a2dd-872feefa00fc"
      },
      "execution_count": null,
      "outputs": [
        {
          "output_type": "stream",
          "name": "stdout",
          "text": [
            "[[103  25  10  28]\n",
            " [105  18   9  27]]\n"
          ]
        }
      ]
    },
    {
      "cell_type": "code",
      "source": [
        "topgoals = goals>15\n",
        "print(topgoals)"
      ],
      "metadata": {
        "colab": {
          "base_uri": "https://localhost:8080/"
        },
        "id": "F7TJd35SuGk8",
        "outputId": "89a95d76-9553-4a6e-ceb8-5e8067e78946"
      },
      "execution_count": null,
      "outputs": [
        {
          "output_type": "stream",
          "name": "stdout",
          "text": [
            "[False False  True False  True]\n"
          ]
        }
      ]
    },
    {
      "cell_type": "code",
      "source": [
        "# calculate goals per match by each player\n",
        "\n",
        "goals_per_match = goals/matches\n",
        "print(goals_per_match)\n",
        "\n"
      ],
      "metadata": {
        "colab": {
          "base_uri": "https://localhost:8080/"
        },
        "id": "vSQkoiO8u6ja",
        "outputId": "b8968139-c915-414f-8bd4-3b993773e5d9"
      },
      "execution_count": null,
      "outputs": [
        {
          "output_type": "stream",
          "name": "stdout",
          "text": [
            "[0.6        0.33333333 0.89285714 0.25       0.66666667]\n"
          ]
        }
      ]
    },
    {
      "cell_type": "code",
      "source": [
        "#high assests player\n",
        "\n",
        "high_assests_player= data[data[:,2]>5]\n",
        "print(high_assests_player)"
      ],
      "metadata": {
        "colab": {
          "base_uri": "https://localhost:8080/"
        },
        "id": "W4FDBCY1wp0h",
        "outputId": "2afed46e-aa94-49c0-8027-f93a7c4d9c0e"
      },
      "execution_count": null,
      "outputs": [
        {
          "output_type": "stream",
          "name": "stdout",
          "text": [
            "[[102  10   7  30]\n",
            " [103  25  10  28]\n",
            " [105  18   9  27]]\n"
          ]
        }
      ]
    },
    {
      "cell_type": "code",
      "source": [],
      "metadata": {
        "id": "RYp0wsaNxk9X"
      },
      "execution_count": null,
      "outputs": []
    }
  ]
}